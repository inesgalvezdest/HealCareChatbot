{
 "cells": [
  {
   "cell_type": "code",
   "execution_count": 1,
   "metadata": {},
   "outputs": [],
   "source": [
    "from chatterbot import ChatBot\n",
    "from chatterbot.trainers import ListTrainer"
   ]
  },
  {
   "cell_type": "markdown",
   "metadata": {},
   "source": [
    "## Chatbot Creation & Training"
   ]
  },
  {
   "cell_type": "markdown",
   "metadata": {},
   "source": [
    "Create the bot object:"
   ]
  },
  {
   "cell_type": "code",
   "execution_count": 2,
   "metadata": {},
   "outputs": [
    {
     "name": "stderr",
     "output_type": "stream",
     "text": [
      "[nltk_data] Downloading package averaged_perceptron_tagger to\n",
      "[nltk_data]     /home/mak7/nltk_data...\n",
      "[nltk_data]   Package averaged_perceptron_tagger is already up-to-\n",
      "[nltk_data]       date!\n",
      "[nltk_data] Downloading package stopwords to /home/mak7/nltk_data...\n",
      "[nltk_data]   Package stopwords is already up-to-date!\n"
     ]
    }
   ],
   "source": [
    "hc_bot = ChatBot(name='HealthCareBot', \n",
    "                 read_only=True,\n",
    "                 logic_adapters=[\n",
    "                     'chatterbot.logic.MathematicalEvaluation',\n",
    "                     'chatterbot.logic.BestMatch']\n",
    "                )"
   ]
  },
  {
   "cell_type": "markdown",
   "metadata": {},
   "source": [
    "### Prepare conversations:"
   ]
  },
  {
   "cell_type": "code",
   "execution_count": 3,
   "metadata": {},
   "outputs": [],
   "source": [
    "possible_scenarios = list()\n",
    "\n",
    "possible_scenarios.append(\n",
    "    ['Hello',\n",
    "     'Hello. You should give yes/no answers',\n",
    "     'Ok',\n",
    "     'Fever',\n",
    "     'No',\n",
    "     'NOTE: NO hepatitis'])\n",
    "\n",
    "possible_scenarios.append([\n",
    "    'Hello',\n",
    "    'Hello. You should give yes/no answers',\n",
    "    'Ok',\n",
    "    'Fever',\n",
    "    'Yes',\n",
    "    'Fatigue', \n",
    "    'Yes', \n",
    "    'Nausea/vomit', \n",
    "    'Yes', \n",
    "    'Abdominal pain', \n",
    "    'Yes', \n",
    "    'Dark urine', \n",
    "    'Yes', \n",
    "    'Dark stool', \n",
    "    'Yes', \n",
    "    'Join pain', \n",
    "    'Yes', \n",
    "    'Jandice',\n",
    "    'Yes', \n",
    "    \"NOTE: Hepatitis. Let's determine the type. Loss of appetite\", \n",
    "    'Yes', 'Possible direct contact with stools/infected needles or contaminated water', \n",
    "    'Yes',\n",
    "    'NOTE: You probably have type A'])\n",
    "\n",
    "\n",
    "possible_scenarios.append(\n",
    "    ['Hello',\n",
    "     'Hello. You should give yes/no answers',\n",
    "     'Ok',\n",
    "     'Fever',\n",
    "     'Yes',\n",
    "     'Fatigue', \n",
    "     'Yes', \n",
    "     'Nausea/vomit', \n",
    "     'Yes', \n",
    "     'Abdominal pain', \n",
    "     'Yes', \n",
    "     'Dark urine', \n",
    "     'Yes', \n",
    "     'Dark stool', \n",
    "     'Yes', \n",
    "     'Join pain', \n",
    "     'Yes', \n",
    "     'Jandice', \n",
    "     'Yes', \n",
    "     \"NOTE: Hepatitis. Let's determine the type. Loss of appetite\", \n",
    "     'Yes', \n",
    "     'Possible direct contact with stools/infected needles or contaminated water', \n",
    "     'No',\n",
    "     'Vomit/nausea',\n",
    "     'No',\n",
    "     'NOTE: You probably have type A'])\n",
    "\n",
    "\n",
    "possible_scenarios.append(\n",
    "    ['Hello',\n",
    "     'Hello. You should give yes/no answers',\n",
    "     'Ok',\n",
    "     'Fever',\n",
    "     'Yes, Fever', \n",
    "     \"NOTE: Hepatitis. Let's determine the type. Loss of appetite\", \n",
    "     'Yes, Loss of appetite', \n",
    "     'Possible direct contact with stools/infected needles or contaminated water', \n",
    "     'No, contact',\n",
    "     'Vomit/nausea',\n",
    "     'Yes, Vomit/nausea',\n",
    "     'Possible transmission through sexual relationships/blood or infected needes', \n",
    "     'Yes transmission', \n",
    "     'Mother-to-child transmission', \n",
    "     'Yes, Mother-to-child', \n",
    "     'NOTE You probably have type C'])\n",
    "\n",
    "possible_scenarios.append(\n",
    "    ['Hello',\n",
    "     'Hello. You should give yes/no answers',\n",
    "     'Ok',\n",
    "     'Fever',\n",
    "     'Yes',\n",
    "     'Fatigue',\n",
    "     'Yes', \n",
    "     'Nausea/vomit', \n",
    "     'Yes', \n",
    "     'Abdominal pain', \n",
    "     'Yes', \n",
    "     'Dark urine', \n",
    "     'Yes', \n",
    "     'Dark stool', \n",
    "     'Yes', \n",
    "     'Join pain', \n",
    "     'Yes', \n",
    "     'Jandice', \n",
    "     'Yes', \n",
    "     \"NOTE: Hepatitis. Let's determine the type. Loss of appetite\", \n",
    "     'Yes', 'Possible direct contact with stools/infected needles or contaminated water', \n",
    "     'No',\n",
    "     'Vomit/nausea',\n",
    "     'Yes',\n",
    "     'Possible transmission through sexual relationships/blood or infected needes', \n",
    "     'Yes', \n",
    "     'Mother-to-child transmission', \n",
    "     'No', \n",
    "     'NOTE: You probably have type B'])\n",
    "\n",
    "\n",
    "possible_scenarios.append(\n",
    "    ['Hello',\n",
    "     'Hello. You should give yes/no answers',\n",
    "     'Ok',\n",
    "     'Fever',\n",
    "     'Yes, Fever',\n",
    "     'Fatigue', \n",
    "     'Yes', \n",
    "     'Nausea/vomit', \n",
    "     'Yes', \n",
    "     'Abdominal pain', \n",
    "     'Yes', \n",
    "     'Dark urine', \n",
    "     'Yes', \n",
    "     'Dark stool', \n",
    "     'Yes', \n",
    "     'Join pain', \n",
    "     'Yes', \n",
    "     'Jandice', \n",
    "     'Yes',\n",
    "     \"NOTE: Hepatitis. Let's determine the type. Loss of appetite\", \n",
    "     'Yes', 'Possible direct contact with stools/infected needles or contaminated water', \n",
    "     'No',\n",
    "     'Vomit/nausea',\n",
    "     'Yes',\n",
    "     'Possible transmission through sexual relationships/blood or infected needes', \n",
    "     'No', \n",
    "     'NOTE: You probably have type C'])\n"
   ]
  },
  {
   "cell_type": "markdown",
   "metadata": {},
   "source": [
    "### Train bot on conversations:"
   ]
  },
  {
   "cell_type": "code",
   "execution_count": 4,
   "metadata": {},
   "outputs": [
    {
     "name": "stdout",
     "output_type": "stream",
     "text": [
      "List Trainer: [####################] 100%\n",
      "List Trainer: [####################] 100%\n",
      "List Trainer: [####################] 100%\n",
      "List Trainer: [####################] 100%\n",
      "List Trainer: [####################] 100%\n",
      "List Trainer: [####################] 100%\n"
     ]
    }
   ],
   "source": [
    "trainer = ListTrainer(hc_bot)\n",
    "\n",
    "for talk in possible_scenarios:\n",
    "    trainer.train(talk)\n"
   ]
  },
  {
   "cell_type": "markdown",
   "metadata": {},
   "source": [
    "Train the chatbot:"
   ]
  },
  {
   "cell_type": "code",
   "execution_count": null,
   "metadata": {},
   "outputs": [],
   "source": []
  },
  {
   "cell_type": "markdown",
   "metadata": {},
   "source": [
    "## Interaction with the Chatbot "
   ]
  },
  {
   "cell_type": "markdown",
   "metadata": {},
   "source": [
    "### Example 1"
   ]
  },
  {
   "cell_type": "code",
   "execution_count": 5,
   "metadata": {},
   "outputs": [
    {
     "name": "stdout",
     "output_type": "stream",
     "text": [
      "Hello. You should give yes/no answers\n"
     ]
    }
   ],
   "source": [
    "print(hc_bot.get_response(\"Hello.\"))"
   ]
  },
  {
   "cell_type": "code",
   "execution_count": 6,
   "metadata": {},
   "outputs": [
    {
     "name": "stdout",
     "output_type": "stream",
     "text": [
      "Fever\n"
     ]
    }
   ],
   "source": [
    "print(hc_bot.get_response(\"Ok\"))"
   ]
  },
  {
   "cell_type": "code",
   "execution_count": 7,
   "metadata": {},
   "outputs": [
    {
     "name": "stdout",
     "output_type": "stream",
     "text": [
      "NOTE: NO hepatitis\n"
     ]
    }
   ],
   "source": [
    "print(hc_bot.get_response(\"No\"))"
   ]
  },
  {
   "cell_type": "code",
   "execution_count": null,
   "metadata": {},
   "outputs": [],
   "source": []
  },
  {
   "cell_type": "markdown",
   "metadata": {},
   "source": [
    "### Example 2"
   ]
  },
  {
   "cell_type": "code",
   "execution_count": 8,
   "metadata": {},
   "outputs": [
    {
     "name": "stdout",
     "output_type": "stream",
     "text": [
      "Hello. You should give yes/no answers\n"
     ]
    }
   ],
   "source": [
    "print(hc_bot.get_response(\"Hello\"))"
   ]
  },
  {
   "cell_type": "code",
   "execution_count": 9,
   "metadata": {},
   "outputs": [
    {
     "name": "stdout",
     "output_type": "stream",
     "text": [
      "Fever\n"
     ]
    }
   ],
   "source": [
    "print(hc_bot.get_response(\"Ok\"))"
   ]
  },
  {
   "cell_type": "code",
   "execution_count": 10,
   "metadata": {},
   "outputs": [
    {
     "name": "stdout",
     "output_type": "stream",
     "text": [
      "NOTE: Hepatitis. Let's determine the type. Loss of appetite\n"
     ]
    }
   ],
   "source": [
    "print(hc_bot.get_response(\"Yes, Fever\"))"
   ]
  },
  {
   "cell_type": "code",
   "execution_count": 11,
   "metadata": {},
   "outputs": [
    {
     "name": "stdout",
     "output_type": "stream",
     "text": [
      "Possible direct contact with stools/infected needles or contaminated water\n"
     ]
    }
   ],
   "source": [
    "print(hc_bot.get_response(\"Yes, Loss of appetite\"))"
   ]
  },
  {
   "cell_type": "code",
   "execution_count": 12,
   "metadata": {},
   "outputs": [
    {
     "name": "stdout",
     "output_type": "stream",
     "text": [
      "Vomit/nausea\n"
     ]
    }
   ],
   "source": [
    "print(hc_bot.get_response(\"No, contact\"))"
   ]
  },
  {
   "cell_type": "code",
   "execution_count": 13,
   "metadata": {},
   "outputs": [
    {
     "name": "stdout",
     "output_type": "stream",
     "text": [
      "Possible transmission through sexual relationships/blood or infected needes\n"
     ]
    }
   ],
   "source": [
    "print(hc_bot.get_response(\"Yes, Vomit/nausea\"))"
   ]
  },
  {
   "cell_type": "code",
   "execution_count": 14,
   "metadata": {},
   "outputs": [
    {
     "name": "stdout",
     "output_type": "stream",
     "text": [
      "Mother-to-child transmission\n"
     ]
    }
   ],
   "source": [
    "print(hc_bot.get_response(\"Yes transmission\"))"
   ]
  },
  {
   "cell_type": "code",
   "execution_count": 15,
   "metadata": {},
   "outputs": [
    {
     "name": "stdout",
     "output_type": "stream",
     "text": [
      "NOTE: You probably have type C\n"
     ]
    }
   ],
   "source": [
    "print(hc_bot.get_response(\"Yes, Mother-to-child\"))"
   ]
  },
  {
   "cell_type": "code",
   "execution_count": null,
   "metadata": {},
   "outputs": [],
   "source": []
  }
 ],
 "metadata": {
  "kernelspec": {
   "display_name": "Python 3",
   "language": "python",
   "name": "python3"
  },
  "language_info": {
   "codemirror_mode": {
    "name": "ipython",
    "version": 3
   },
   "file_extension": ".py",
   "mimetype": "text/x-python",
   "name": "python",
   "nbconvert_exporter": "python",
   "pygments_lexer": "ipython3",
   "version": "3.6.9"
  }
 },
 "nbformat": 4,
 "nbformat_minor": 4
}
